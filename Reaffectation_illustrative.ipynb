{
 "cells": [
  {
   "attachments": {},
   "cell_type": "markdown",
   "metadata": {},
   "source": [
    "- Tanguy Malandain\n",
    "- Hugo Deplagne\n",
    "- Pierre Litoux\n",
    "- Param Dave"
   ]
  },
  {
   "attachments": {},
   "cell_type": "markdown",
   "metadata": {},
   "source": [
    "# Reaffectation illustrative"
   ]
  },
  {
   "attachments": {},
   "cell_type": "markdown",
   "metadata": {},
   "source": [
    "### Import modules"
   ]
  },
  {
   "cell_type": "code",
   "execution_count": 1,
   "metadata": {},
   "outputs": [],
   "source": [
    "import numpy as np\n",
    "import pandas as pd"
   ]
  },
  {
   "attachments": {},
   "cell_type": "markdown",
   "metadata": {},
   "source": [
    "### Load dataframe"
   ]
  },
  {
   "cell_type": "code",
   "execution_count": 2,
   "metadata": {},
   "outputs": [
    {
     "data": {
      "text/html": [
       "<div>\n",
       "<style scoped>\n",
       "    .dataframe tbody tr th:only-of-type {\n",
       "        vertical-align: middle;\n",
       "    }\n",
       "\n",
       "    .dataframe tbody tr th {\n",
       "        vertical-align: top;\n",
       "    }\n",
       "\n",
       "    .dataframe thead th {\n",
       "        text-align: right;\n",
       "    }\n",
       "</style>\n",
       "<table border=\"1\" class=\"dataframe\">\n",
       "  <thead>\n",
       "    <tr style=\"text-align: right;\">\n",
       "      <th></th>\n",
       "      <th>cle</th>\n",
       "      <th>Respondent_ID</th>\n",
       "      <th>weight</th>\n",
       "      <th>A11</th>\n",
       "      <th>A12</th>\n",
       "      <th>A13</th>\n",
       "      <th>A14</th>\n",
       "      <th>A4</th>\n",
       "      <th>A5</th>\n",
       "      <th>A5bis</th>\n",
       "      <th>...</th>\n",
       "      <th>rs11recap2</th>\n",
       "      <th>RS11recap</th>\n",
       "      <th>RS193bis</th>\n",
       "      <th>RS2Recap</th>\n",
       "      <th>RS56Recap</th>\n",
       "      <th>RS2</th>\n",
       "      <th>RS11</th>\n",
       "      <th>RS102</th>\n",
       "      <th>cluster_usage</th>\n",
       "      <th>cluster_attitude</th>\n",
       "    </tr>\n",
       "  </thead>\n",
       "  <tbody>\n",
       "    <tr>\n",
       "      <th>0</th>\n",
       "      <td>1</td>\n",
       "      <td>MET20_999999996</td>\n",
       "      <td>2.501255</td>\n",
       "      <td>1</td>\n",
       "      <td>0</td>\n",
       "      <td>0</td>\n",
       "      <td>0</td>\n",
       "      <td>1</td>\n",
       "      <td>2.0</td>\n",
       "      <td>0.0</td>\n",
       "      <td>...</td>\n",
       "      <td>1</td>\n",
       "      <td>2</td>\n",
       "      <td>1.0</td>\n",
       "      <td>1</td>\n",
       "      <td>1</td>\n",
       "      <td>24</td>\n",
       "      <td>0</td>\n",
       "      <td>4</td>\n",
       "      <td>1</td>\n",
       "      <td>2</td>\n",
       "    </tr>\n",
       "    <tr>\n",
       "      <th>1</th>\n",
       "      <td>2</td>\n",
       "      <td>MET20_98888888</td>\n",
       "      <td>0.722914</td>\n",
       "      <td>1</td>\n",
       "      <td>0</td>\n",
       "      <td>0</td>\n",
       "      <td>0</td>\n",
       "      <td>1</td>\n",
       "      <td>5.0</td>\n",
       "      <td>0.0</td>\n",
       "      <td>...</td>\n",
       "      <td>1</td>\n",
       "      <td>2</td>\n",
       "      <td>1.0</td>\n",
       "      <td>4</td>\n",
       "      <td>1</td>\n",
       "      <td>50</td>\n",
       "      <td>0</td>\n",
       "      <td>1</td>\n",
       "      <td>4</td>\n",
       "      <td>1</td>\n",
       "    </tr>\n",
       "    <tr>\n",
       "      <th>2</th>\n",
       "      <td>3</td>\n",
       "      <td>MET20_1978307</td>\n",
       "      <td>1.039611</td>\n",
       "      <td>1</td>\n",
       "      <td>0</td>\n",
       "      <td>0</td>\n",
       "      <td>0</td>\n",
       "      <td>1</td>\n",
       "      <td>2.0</td>\n",
       "      <td>0.0</td>\n",
       "      <td>...</td>\n",
       "      <td>2</td>\n",
       "      <td>1</td>\n",
       "      <td>1.0</td>\n",
       "      <td>3</td>\n",
       "      <td>2</td>\n",
       "      <td>37</td>\n",
       "      <td>1</td>\n",
       "      <td>3</td>\n",
       "      <td>4</td>\n",
       "      <td>2</td>\n",
       "    </tr>\n",
       "    <tr>\n",
       "      <th>3</th>\n",
       "      <td>4</td>\n",
       "      <td>MET20_1302078</td>\n",
       "      <td>0.976590</td>\n",
       "      <td>1</td>\n",
       "      <td>1</td>\n",
       "      <td>1</td>\n",
       "      <td>0</td>\n",
       "      <td>1</td>\n",
       "      <td>1.0</td>\n",
       "      <td>0.0</td>\n",
       "      <td>...</td>\n",
       "      <td>1</td>\n",
       "      <td>2</td>\n",
       "      <td>1.0</td>\n",
       "      <td>5</td>\n",
       "      <td>3</td>\n",
       "      <td>63</td>\n",
       "      <td>0</td>\n",
       "      <td>2</td>\n",
       "      <td>0</td>\n",
       "      <td>2</td>\n",
       "    </tr>\n",
       "    <tr>\n",
       "      <th>4</th>\n",
       "      <td>5</td>\n",
       "      <td>MET20_1869308</td>\n",
       "      <td>0.812315</td>\n",
       "      <td>0</td>\n",
       "      <td>1</td>\n",
       "      <td>0</td>\n",
       "      <td>0</td>\n",
       "      <td>2</td>\n",
       "      <td>0.0</td>\n",
       "      <td>1.0</td>\n",
       "      <td>...</td>\n",
       "      <td>2</td>\n",
       "      <td>1</td>\n",
       "      <td>1.0</td>\n",
       "      <td>3</td>\n",
       "      <td>1</td>\n",
       "      <td>44</td>\n",
       "      <td>1</td>\n",
       "      <td>3</td>\n",
       "      <td>3</td>\n",
       "      <td>2</td>\n",
       "    </tr>\n",
       "  </tbody>\n",
       "</table>\n",
       "<p>5 rows × 135 columns</p>\n",
       "</div>"
      ],
      "text/plain": [
       "   cle    Respondent_ID    weight  A11  A12  A13  A14  A4   A5  A5bis  ...  \\\n",
       "0    1  MET20_999999996  2.501255    1    0    0    0   1  2.0    0.0  ...   \n",
       "1    2   MET20_98888888  0.722914    1    0    0    0   1  5.0    0.0  ...   \n",
       "2    3    MET20_1978307  1.039611    1    0    0    0   1  2.0    0.0  ...   \n",
       "3    4    MET20_1302078  0.976590    1    1    1    0   1  1.0    0.0  ...   \n",
       "4    5    MET20_1869308  0.812315    0    1    0    0   2  0.0    1.0  ...   \n",
       "\n",
       "   rs11recap2  RS11recap  RS193bis  RS2Recap  RS56Recap  RS2  RS11  RS102  \\\n",
       "0           1          2       1.0         1          1   24     0      4   \n",
       "1           1          2       1.0         4          1   50     0      1   \n",
       "2           2          1       1.0         3          2   37     1      3   \n",
       "3           1          2       1.0         5          3   63     0      2   \n",
       "4           2          1       1.0         3          1   44     1      3   \n",
       "\n",
       "   cluster_usage  cluster_attitude  \n",
       "0              1                 2  \n",
       "1              4                 1  \n",
       "2              4                 2  \n",
       "3              0                 2  \n",
       "4              3                 2  \n",
       "\n",
       "[5 rows x 135 columns]"
      ]
     },
     "execution_count": 2,
     "metadata": {},
     "output_type": "execute_result"
    }
   ],
   "source": [
    "df = pd.read_csv(\"data/clusters.csv\")\n",
    "df.head()"
   ]
  },
  {
   "attachments": {},
   "cell_type": "markdown",
   "metadata": {},
   "source": [
    "#### Pour les clusters sur les question d'usage\n",
    "\n",
    "Prendre les questions d'attitude et les questions mentionnees."
   ]
  },
  {
   "cell_type": "code",
   "execution_count": 3,
   "metadata": {},
   "outputs": [
    {
     "data": {
      "text/plain": [
       "Index(['cle', 'Respondent_ID', 'weight', 'A9_1_slice', 'A9_2_slice',\n",
       "       'A9_3_slice', 'A9_4_slice', 'A9_5_slice', 'A9_6_slice', 'A9_7_slice',\n",
       "       'A9_8_slice', 'A9_9_slice', 'A9_10_slice', 'A9_11_slice', 'A9_12_slice',\n",
       "       'A9_13_slice', 'A9_14_slice', 'A9_15_slice', 'A9_16_slice',\n",
       "       'A10_1_slice', 'A10_2_slice', 'A10_3_slice', 'A10_4_slice',\n",
       "       'A10_5_slice', 'A10_6_slice', 'A10_7_slice', 'A10_8_slice',\n",
       "       'A11_1_slice', 'A11_2_slice', 'A11_3_slice', 'A11_4_slice',\n",
       "       'A11_5_slice', 'A11_6_slice', 'A11_7_slice', 'A11_8_slice',\n",
       "       'A11_9_slice', 'A11_10_slice', 'A11_11_slice', 'A11_12_slice',\n",
       "       'A11_13_slice', 'rs3', 'rs5', 'rs6', 'RS1', 'RS191', 'RS192', 'RS193',\n",
       "       'RS102RECAP', 'rs11recap2', 'RS11recap', 'RS193bis', 'RS2Recap',\n",
       "       'RS56Recap', 'RS2', 'RS11', 'RS102', 'cluster'],\n",
       "      dtype='object')"
      ]
     },
     "execution_count": 3,
     "metadata": {},
     "output_type": "execute_result"
    }
   ],
   "source": [
    "selected_columns = list(range(3)) + list(range(30, 67)) + list(range(df.shape[1]-18, df.shape[1]))\n",
    "\n",
    "# Create a new DataFrame with the selected columns\n",
    "df_cluster = df.iloc[:, selected_columns].copy()\n",
    "\n",
    "df_usage = df_cluster.drop(\"cluster_attitude\", axis=1)\n",
    "df_usage.rename(columns={'cluster_usage': 'cluster'}, inplace=True)\n",
    "df_usage.columns\n"
   ]
  },
  {
   "attachments": {},
   "cell_type": "markdown",
   "metadata": {},
   "source": [
    "#### Pour les clusters sur les question d'attitude\n",
    "\n",
    "Prendre les questions d'usage et les questions mentionnees."
   ]
  },
  {
   "cell_type": "code",
   "execution_count": 4,
   "metadata": {},
   "outputs": [
    {
     "data": {
      "text/plain": [
       "Index(['cle', 'Respondent_ID', 'weight', 'A11', 'A12', 'A13', 'A14', 'A4',\n",
       "       'A5', 'A5bis', 'A8_1_slice', 'A8_2_slice', 'A8_3_slice', 'A8_4_slice',\n",
       "       'B1_1_slice', 'B1_2_slice', 'B2_1_slice', 'B2_2_slice', 'B3', 'B4',\n",
       "       'B6', 'C1_1_slice', 'C1_2_slice', 'C1_3_slice', 'C1_4_slice',\n",
       "       'C1_5_slice', 'C1_6_slice', 'C1_7_slice', 'C1_8_slice', 'C1_9_slice',\n",
       "       'rs3', 'rs5', 'rs6', 'RS1', 'RS191', 'RS192', 'RS193', 'RS102RECAP',\n",
       "       'rs11recap2', 'RS11recap', 'RS193bis', 'RS2Recap', 'RS56Recap', 'RS2',\n",
       "       'RS11', 'RS102', 'cluster'],\n",
       "      dtype='object')"
      ]
     },
     "execution_count": 4,
     "metadata": {},
     "output_type": "execute_result"
    }
   ],
   "source": [
    "df_attitude = df.iloc[:, list(range(30)) + list(range(-18, -2))].copy()\n",
    "df_attitude[\"cluster\"] = df[\"cluster_attitude\"]\n",
    "df_attitude.columns"
   ]
  },
  {
   "attachments": {},
   "cell_type": "markdown",
   "metadata": {},
   "source": [
    "### Implement reaffectation"
   ]
  },
  {
   "cell_type": "code",
   "execution_count": 5,
   "metadata": {},
   "outputs": [],
   "source": [
    "from utils import train_and_evaluate"
   ]
  },
  {
   "attachments": {},
   "cell_type": "markdown",
   "metadata": {},
   "source": [
    "#### Pour la segmentation variable verte."
   ]
  },
  {
   "cell_type": "code",
   "execution_count": 6,
   "metadata": {},
   "outputs": [
    {
     "name": "stdout",
     "output_type": "stream",
     "text": [
      "\n",
      "Accuracy Score: 0.596\n"
     ]
    },
    {
     "data": {
      "image/png": "[encoded data removed]",
      "text/plain": [
       "<Figure size 800x600 with 1 Axes>"
      ]
     },
     "metadata": {},
     "output_type": "display_data"
    },
    {
     "data": {
      "text/plain": [
       "0.596"
      ]
     },
     "execution_count": 6,
     "metadata": {},
     "output_type": "execute_result"
    }
   ],
   "source": [
    "train_and_evaluate(df_usage, df_usage.iloc[:, 3:-1].columns)"
   ]
  },
  {
   "attachments": {},
   "cell_type": "markdown",
   "metadata": {},
   "source": [
    "Nous obtenons une precision de 59.6% pour la segmentation variable verte. Un resultat peu satisfaisant. Ceci est du au fait que les clusters n'ont pas ete forme à partir de ces questions."
   ]
  },
  {
   "attachments": {},
   "cell_type": "markdown",
   "metadata": {},
   "source": [
    "#### Pour la segmentation variable orange"
   ]
  },
  {
   "cell_type": "code",
   "execution_count": 7,
   "metadata": {},
   "outputs": [
    {
     "name": "stdout",
     "output_type": "stream",
     "text": [
      "\n",
      "Accuracy Score: 0.484\n"
     ]
    },
    {
     "data": {
      "image/png": "[encoded data removed]",
      "text/plain": [
       "<Figure size 800x600 with 1 Axes>"
      ]
     },
     "metadata": {},
     "output_type": "display_data"
    },
    {
     "data": {
      "text/plain": [
       "0.484"
      ]
     },
     "execution_count": 7,
     "metadata": {},
     "output_type": "execute_result"
    }
   ],
   "source": [
    "train_and_evaluate(df_attitude, df_attitude.iloc[:, 3:-1].columns)"
   ]
  },
  {
   "attachments": {},
   "cell_type": "markdown",
   "metadata": {},
   "source": [
    "Nous obtenons une precision de 48.4% pour la segmentation variable orange. Un resultat peu satisfaisant. Ceci est du au fait que les clusters n'ont pas ete forme à partir de ces questions."
   ]
  }
 ],
 "metadata": {
  "kernelspec": {
   "display_name": "Python 3",
   "language": "python",
   "name": "python3"
  },
  "language_info": {
   "codemirror_mode": {
    "name": "ipython",
    "version": 3
   },
   "file_extension": ".py",
   "mimetype": "text/x-python",
   "name": "python",
   "nbconvert_exporter": "python",
   "pygments_lexer": "ipython3",
   "version": "3.11.5"
  },
  "orig_nbformat": 4
 },
 "nbformat": 4,
 "nbformat_minor": 2
}
